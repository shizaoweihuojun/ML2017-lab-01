{
 "cells": [
  {
   "cell_type": "code",
   "execution_count": 13,
   "metadata": {
    "collapsed": true
   },
   "outputs": [],
   "source": [
    "# write your code here\n",
    "import numpy as np\n",
    "import matplotlib.pyplot as plt\n",
    "from sklearn.model_selection import train_test_split\n",
    "from sklearn.datasets import load_svmlight_file"
   ]
  },
  {
   "cell_type": "code",
   "execution_count": 14,
   "metadata": {
    "collapsed": true
   },
   "outputs": [],
   "source": [
    "def get_data():\n",
    "    data = load_svmlight_file(\"data\\\\australian_scale\")\n",
    "    return data[0], data[1]\n",
    "\n",
    "X, y = get_data()\n",
    "X_train, X_test, y_train, y_test = train_test_split(X, y, test_size=0.2)"
   ]
  },
  {
   "cell_type": "code",
   "execution_count": 15,
   "metadata": {
    "collapsed": true
   },
   "outputs": [],
   "source": [
    "def cost(W,b,X,Y):\n",
    "    C = 5\n",
    "    cost = np.sum(np.square(W))/2 + C*np.sum(np.maximum(0,1-Y*(np.dot(W.T,X)+b)))/X.shape[1]\n",
    "    return cost"
   ]
  },
  {
   "cell_type": "code",
   "execution_count": 16,
   "metadata": {
    "collapsed": true
   },
   "outputs": [],
   "source": [
    "def loss(W,b,X,Y):\n",
    "    C = 5\n",
    "    GW = np.zeros(X.shape[1])\n",
    "    Gb = 0\n",
    "    filt = (1-Y*(np.dot(W.T,X)+b))>0\n",
    "    GW = W - C*np.dot(Y*filt,X.T).T/X.shape[1]\n",
    "    Gb = -C*np.sum(Y*filt*b)/X.shape[1]\n",
    "    return GW,Gb"
   ]
  },
  {
   "cell_type": "code",
   "execution_count": 17,
   "metadata": {
    "collapsed": true
   },
   "outputs": [],
   "source": [
    "def main(n,X_train,y_train,X_test,y_test):\n",
    "    lenrate = 0.01\n",
    "    trainCost = []\n",
    "    validCost = []\n",
    "    W = np.zeros((X_train.shape[0],1))\n",
    "    b = 0\n",
    "    for i in range(n):       \n",
    "        GW,Gb = loss(W,b,X_train,y_train)\n",
    "        train = cost(W,b,X_train,y_train)\n",
    "        trainCost.append(train)\n",
    "        valid = cost(W,b,X_test,y_test)\n",
    "        validCost.append(valid)\n",
    "        DW = -GW\n",
    "        Db = -Gb\n",
    "        W = W + lenrate*DW\n",
    "        b = b + lenrate*Db\n",
    "    return trainCost,validCost"
   ]
  },
  {
   "cell_type": "code",
   "execution_count": 18,
   "metadata": {},
   "outputs": [
    {
     "data": {
      "image/png": "[encoded data removed]",
      "text/plain": [
       "<matplotlib.figure.Figure at 0xf1f58f5898>"
      ]
     },
     "metadata": {},
     "output_type": "display_data"
    }
   ],
   "source": [
    "X_train = X_train.T.toarray()\n",
    "X_test = X_test.T.toarray()\n",
    "y_train = np.reshape(y_train,(1,y_train.shape[0]))\n",
    "y_test = np.reshape(y_test,(1,y_test.shape[0]))\n",
    "n = 100\n",
    "trainCost,vaildCost = main(n,X_train,y_train,X_test,y_test)\n",
    "\n",
    "\n",
    "plt.figure(1)\n",
    "x = np.arange(0, n, 1)\n",
    "plt.xlabel('Iteration Times')\n",
    "plt.ylabel('Loss')\n",
    "plt.plot(x,trainCost,color=\"b\",label = \"train loss\")\n",
    "plt.plot(x,vaildCost,color=\"r\",label = \"validation loss\")\n",
    "plt.legend(loc='upper right')\n",
    "plt.show()"
   ]
  }
 ],
 "metadata": {
  "kernelspec": {
   "display_name": "Python 3",
   "language": "python",
   "name": "python3"
  },
  "language_info": {
   "codemirror_mode": {
    "name": "ipython",
    "version": 3
   },
   "file_extension": ".py",
   "mimetype": "text/x-python",
   "name": "python",
   "nbconvert_exporter": "python",
   "pygments_lexer": "ipython3",
   "version": "3.6.3"
  }
 },
 "nbformat": 4,
 "nbformat_minor": 2
}
