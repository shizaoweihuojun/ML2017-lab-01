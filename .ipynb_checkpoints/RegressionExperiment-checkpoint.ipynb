{
 "cells": [
  {
   "cell_type": "code",
   "execution_count": 13,
   "metadata": {
    "collapsed": true
   },
   "outputs": [],
   "source": [
    "# write your code here\n",
    "import numpy as np\n",
    "import matplotlib.pyplot as plt\n",
    "from sklearn.model_selection import train_test_split\n",
    "from sklearn.datasets import load_svmlight_file"
   ]
  },
  {
   "cell_type": "code",
   "execution_count": 14,
   "metadata": {
    "collapsed": true
   },
   "outputs": [],
   "source": [
    "def get_data():\n",
    "    data = load_svmlight_file(\"data\\\\housing_scale\")\n",
    "    return data[0], data[1]\n",
    "\n",
    "X, y = get_data()\n"
   ]
  },
  {
   "cell_type": "code",
   "execution_count": 15,
   "metadata": {
    "collapsed": true
   },
   "outputs": [],
   "source": [
    "X_train, X_test, y_train, y_test = train_test_split(X, y, test_size=0.2)\n",
    "lenrat=0.02\n",
    "n=100 \n",
    "W=np.ones(X.shape[1])\n",
    "b=1\n",
    "\n"
   ]
  },
  {
   "cell_type": "code",
   "execution_count": 16,
   "metadata": {
    "collapsed": true
   },
   "outputs": [],
   "source": [
    "def hy(W,b,X1,y1):\n",
    "    loss=np.sum(np.square(X1*W + b - y1))/ (2*X1.shape[0])\n",
    "    return loss"
   ]
  },
  {
   "cell_type": "code",
   "execution_count": 17,
   "metadata": {
    "collapsed": true
   },
   "outputs": [],
   "source": [
    "def main(n,X_train,y_train,X_test,y_test):\n",
    "    W=np.ones(X.shape[1])\n",
    "    b=1\n",
    "    lenrat=0.02\n",
    "    train = []\n",
    "    validation = []\n",
    "    for i in range(n):\n",
    "        train.append(hy(W,b,X_train,y_train))\n",
    "        validation.append(hy(W,b,X_test,y_test))\n",
    "        DW= -(X_train*W + b - y_train)*X_train / X_train.shape[0]\n",
    "        Db = -np.sum((X_train*W + b - y_train)) / X_train.shape[0]\n",
    "        W = W + lenrat*DW\n",
    "        b = b + lenrat*Db\n",
    "    return train,validation"
   ]
  },
  {
   "cell_type": "code",
   "execution_count": 18,
   "metadata": {},
   "outputs": [
    {
     "data": {
      "image/png": "[encoded data removed]",
      "text/plain": [
       "<matplotlib.figure.Figure at 0xa0b0039550>"
      ]
     },
     "metadata": {},
     "output_type": "display_data"
    }
   ],
   "source": [
    "trainloss,validationloss = main(n,X_train,y_train,X_test,y_test)\n",
    "\n",
    "plt.figure(1)\n",
    "x = np.arange(0, n, 1)\n",
    "plt.xlabel('Iteration Times')\n",
    "plt.ylabel('Loss')\n",
    "plt.plot(x,trainloss,color=\"b\",label = \"train loss\")\n",
    "plt.plot(x,validationloss,color=\"r\",label = \"validation loss\")\n",
    "plt.legend(loc='upper right')\n",
    "plt.show()"
   ]
  }
 ],
 "metadata": {
  "kernelspec": {
   "display_name": "Python 3",
   "language": "python",
   "name": "python3"
  },
  "language_info": {
   "codemirror_mode": {
    "name": "ipython",
    "version": 3
   },
   "file_extension": ".py",
   "mimetype": "text/x-python",
   "name": "python",
   "nbconvert_exporter": "python",
   "pygments_lexer": "ipython3",
   "version": "3.6.3"
  }
 },
 "nbformat": 4,
 "nbformat_minor": 2
}
